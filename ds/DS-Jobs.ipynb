{
 "cells": [
  {
   "cell_type": "code",
   "execution_count": 1,
   "metadata": {},
   "outputs": [
    {
     "name": "stderr",
     "output_type": "stream",
     "text": [
      "/usr/local/Cellar/python/3.7.5/Frameworks/Python.framework/Versions/3.7/lib/python3.7/importlib/_bootstrap.py:219: RuntimeWarning: numpy.ufunc size changed, may indicate binary incompatibility. Expected 192 from C header, got 216 from PyObject\n",
      "  return f(*args, **kwds)\n",
      "/usr/local/Cellar/python/3.7.5/Frameworks/Python.framework/Versions/3.7/lib/python3.7/importlib/_bootstrap.py:219: RuntimeWarning: numpy.ufunc size changed, may indicate binary incompatibility. Expected 192 from C header, got 216 from PyObject\n",
      "  return f(*args, **kwds)\n"
     ]
    }
   ],
   "source": [
    "import pandas as pd\n",
    "import ast\n",
    "import numpy as np \n",
    "import matplotlib.pyplot as plt\n",
    "from sklearn.neighbors import DistanceMetric, NeighborhoodComponentsAnalysis\n",
    "from sklearn.decomposition import NMF, FactorAnalysis\n",
    "from collections import defaultdict"
   ]
  },
  {
   "cell_type": "code",
   "execution_count": 2,
   "metadata": {},
   "outputs": [
    {
     "data": {
      "text/html": [
       "<div>\n",
       "<style scoped>\n",
       "    .dataframe tbody tr th:only-of-type {\n",
       "        vertical-align: middle;\n",
       "    }\n",
       "\n",
       "    .dataframe tbody tr th {\n",
       "        vertical-align: top;\n",
       "    }\n",
       "\n",
       "    .dataframe thead th {\n",
       "        text-align: right;\n",
       "    }\n",
       "</style>\n",
       "<table border=\"1\" class=\"dataframe\">\n",
       "  <thead>\n",
       "    <tr style=\"text-align: right;\">\n",
       "      <th></th>\n",
       "      <th>Role</th>\n",
       "      <th>Tags</th>\n",
       "      <th>Additional</th>\n",
       "      <th>tag</th>\n",
       "    </tr>\n",
       "  </thead>\n",
       "  <tbody>\n",
       "    <tr>\n",
       "      <th>0</th>\n",
       "      <td>React Frontend Developer</td>\n",
       "      <td>[' React', ' JavaScript', ' CSS', ' Git', ' RE...</td>\n",
       "      <td>{' Job profile ': ' Mainly new features ', ' S...</td>\n",
       "      <td>[React, JavaScript, CSS, Git, REST, html5, nod...</td>\n",
       "    </tr>\n",
       "    <tr>\n",
       "      <th>1</th>\n",
       "      <td>C++ Engineer</td>\n",
       "      <td>[' C++', ' Linux', ' STL', ' Boost', ' unit te...</td>\n",
       "      <td>{' Job profile ': ' Mainly new features ', ' S...</td>\n",
       "      <td>[C++, Linux, STL, Boost, unit test, Jenkins, d...</td>\n",
       "    </tr>\n",
       "    <tr>\n",
       "      <th>2</th>\n",
       "      <td>Front End Developer</td>\n",
       "      <td>[' Angular', ' JavaScript', ' CSS', ' HTML', '...</td>\n",
       "      <td>{' Job profile ': ' Mainly new features ', ' S...</td>\n",
       "      <td>[Angular, JavaScript, CSS, HTML, React, Design...</td>\n",
       "    </tr>\n",
       "    <tr>\n",
       "      <th>3</th>\n",
       "      <td>Frontend Developer</td>\n",
       "      <td>[' JavaScript', ' jQuery', ' Angular', ' CSS',...</td>\n",
       "      <td>{' Job profile ': ' Mainly new features ', ' S...</td>\n",
       "      <td>[JavaScript, jQuery, Angular, CSS, HTML, redux...</td>\n",
       "    </tr>\n",
       "    <tr>\n",
       "      <th>4</th>\n",
       "      <td>Python Developer</td>\n",
       "      <td>[' Python', ' Django', ' PostgreSQL', ' experi...</td>\n",
       "      <td>{' Start ': ' 2020-05-01 ', ' Contract duratio...</td>\n",
       "      <td>[Python, Django, PostgreSQL, experience in dev...</td>\n",
       "    </tr>\n",
       "  </tbody>\n",
       "</table>\n",
       "</div>"
      ],
      "text/plain": [
       "                       Role  \\\n",
       "0  React Frontend Developer   \n",
       "1              C++ Engineer   \n",
       "2       Front End Developer   \n",
       "3        Frontend Developer   \n",
       "4          Python Developer   \n",
       "\n",
       "                                                Tags  \\\n",
       "0  [' React', ' JavaScript', ' CSS', ' Git', ' RE...   \n",
       "1  [' C++', ' Linux', ' STL', ' Boost', ' unit te...   \n",
       "2  [' Angular', ' JavaScript', ' CSS', ' HTML', '...   \n",
       "3  [' JavaScript', ' jQuery', ' Angular', ' CSS',...   \n",
       "4  [' Python', ' Django', ' PostgreSQL', ' experi...   \n",
       "\n",
       "                                          Additional  \\\n",
       "0  {' Job profile ': ' Mainly new features ', ' S...   \n",
       "1  {' Job profile ': ' Mainly new features ', ' S...   \n",
       "2  {' Job profile ': ' Mainly new features ', ' S...   \n",
       "3  {' Job profile ': ' Mainly new features ', ' S...   \n",
       "4  {' Start ': ' 2020-05-01 ', ' Contract duratio...   \n",
       "\n",
       "                                                 tag  \n",
       "0  [React, JavaScript, CSS, Git, REST, html5, nod...  \n",
       "1  [C++, Linux, STL, Boost, unit test, Jenkins, d...  \n",
       "2  [Angular, JavaScript, CSS, HTML, React, Design...  \n",
       "3  [JavaScript, jQuery, Angular, CSS, HTML, redux...  \n",
       "4  [Python, Django, PostgreSQL, experience in dev...  "
      ]
     },
     "execution_count": 2,
     "metadata": {},
     "output_type": "execute_result"
    }
   ],
   "source": [
    "df = pd.read_csv('../noFluffJobs/no_fluffs.csv')\n",
    "df = df.drop('Unnamed: 0', axis=1)\n",
    "\n",
    "\n",
    "def filter_tags(str_tag_list):\n",
    "    tag_list = ast.literal_eval(str_tag_list)\n",
    "    return [x.strip() for x in tag_list]\n",
    "\n",
    "\n",
    "df['tag'] = df['Tags'].apply(filter_tags)\n",
    "df.head()"
   ]
  },
  {
   "cell_type": "code",
   "execution_count": 15,
   "metadata": {},
   "outputs": [
    {
     "data": {
      "text/plain": [
       "\"{' Start ': ' ASAP ', ' Contract duration ': ' Permanent contract ', ' Paid holiday ': ' B2B - No  +1 ', ' Part time work ': ' No ', ' Remote possible ': ' Yes (1 day a week) ', ' Flexible hours ': ' No ', ' Travel involved ': ' No ', ' Freedom to choose tools ': ' Yes '}\""
      ]
     },
     "execution_count": 15,
     "metadata": {},
     "output_type": "execute_result"
    }
   ],
   "source": [
    "df['Additional'].iloc[300]"
   ]
  },
  {
   "cell_type": "markdown",
   "metadata": {},
   "source": [
    "## Create the adjacency matrix\n",
    "\n",
    "See which tags are coocurring"
   ]
  },
  {
   "cell_type": "code",
   "execution_count": 19,
   "metadata": {},
   "outputs": [],
   "source": [
    "tag_dict = defaultdict(list)\n",
    "all_tags = df['tag'].tolist()\n",
    "\n",
    "flat_tags = [tag for tag_list in all_tags for tag in tag_list]\n",
    "flat_tag_dict = {tag: i for i, tag in enumerate(flat_tags)}\n",
    "inverted_tag_dict = {i: tag for i, tag in enumerate(flat_tags)}\n",
    "vectors = np.zeros(shape=(len(all_tags), len(flat_tags)), dtype=np.uint16)\n",
    "tag_matrix = np.zeros(shape=(len(flat_tags), len(flat_tags)), dtype=np.uint16)\n",
    "\n",
    "for k, tag_list in enumerate(all_tags):\n",
    "    for i in range(len(tag_list)):\n",
    "        i_tag = flat_tag_dict[tag_list[i]]\n",
    "        vectors[k][i] = 1\n",
    "        for j in range(len(tag_list)):\n",
    "            if i == j:\n",
    "                continue\n",
    "            j_tag = flat_tag_dict[tag_list[j]]\n",
    "            tag_matrix[i_tag, j_tag] += 1\n",
    "            tag_matrix[j_tag, i_tag] += 1"
   ]
  },
  {
   "cell_type": "code",
   "execution_count": 17,
   "metadata": {},
   "outputs": [
    {
     "name": "stderr",
     "output_type": "stream",
     "text": [
      "/usr/local/lib/python3.7/site-packages/ipykernel_launcher.py:1: RuntimeWarning: divide by zero encountered in true_divide\n",
      "  \"\"\"Entry point for launching an IPython kernel.\n"
     ]
    }
   ],
   "source": [
    "metrics_matrix = 1.0/tag_matrix.astype(np.float32)"
   ]
  },
  {
   "cell_type": "code",
   "execution_count": 18,
   "metadata": {},
   "outputs": [
    {
     "data": {
      "text/plain": [
       "array([[9.9999902e+03, 9.9999902e+03, 9.9999902e+03, ..., 9.9999902e+03,\n",
       "        9.9999902e+03, 9.9999902e+03],\n",
       "       [9.9999902e+03, 9.9999902e+03, 9.9999902e+03, ..., 9.9999902e+03,\n",
       "        9.9999902e+03, 9.9999902e+03],\n",
       "       [9.9999902e+03, 9.9999902e+03, 9.9999902e+03, ..., 9.9999902e+03,\n",
       "        9.9999902e+03, 9.9999902e+03],\n",
       "       ...,\n",
       "       [9.9999902e+03, 9.9999902e+03, 9.9999902e+03, ..., 9.9999902e+03,\n",
       "        5.1020407e-03, 1.0000000e-01],\n",
       "       [9.9999902e+03, 9.9999902e+03, 9.9999902e+03, ..., 5.1020407e-03,\n",
       "        2.5000000e-01, 1.2500000e-01],\n",
       "       [9.9999902e+03, 9.9999902e+03, 9.9999902e+03, ..., 1.0000000e-01,\n",
       "        1.2500000e-01, 9.9999902e+03]], dtype=float32)"
      ]
     },
     "execution_count": 18,
     "metadata": {},
     "output_type": "execute_result"
    }
   ],
   "source": [
    "metrics_matrix[np.isinf(metrics_matrix)] = 9999.99\n",
    "metrics_matrix"
   ]
  },
  {
   "cell_type": "code",
   "execution_count": 5,
   "metadata": {},
   "outputs": [],
   "source": [
    "from sklearn.manifold import MDS\n",
    "\n",
    "mds = MDS(n_components=2, \n",
    "          dissimilarity='precomputed',\n",
    "          n_jobs=-1)\n",
    "\n",
    "X_embeds = mds.fit_transform(tag_matrix)"
   ]
  },
  {
   "cell_type": "code",
   "execution_count": 68,
   "metadata": {},
   "outputs": [
    {
     "name": "stdout",
     "output_type": "stream",
     "text": [
      "Skill MySQL\n",
      "\tCoocs:['Git', 'English', 'PHP', 'Problem solving', 'Communication skills']\n",
      "\tVals: [122 114 104  86  80]\n",
      "Skill Hibernate\n",
      "\tCoocs:['Java', 'Spring', 'English', 'Git', 'REST']\n",
      "\tVals: [184 168 130 116 108]\n",
      "Skill High Scalability\n",
      "\tCoocs:['Clean Code', 'Jenkins', 'Polish', 'High Availability', 'Scalability']\n",
      "\tVals: [4 4 4 4 4]\n",
      "Skill Team player\n",
      "\tCoocs:['English', 'Communication skills', 'Problem solving', 'Proactivity', 'Git']\n",
      "\tVals: [826 746 666 494 420]\n",
      "Skill Linux\n",
      "\tCoocs:['English', 'Git', 'Docker', 'Communication skills', 'Python']\n",
      "\tVals: [324 232 220 208 198]\n"
     ]
    }
   ],
   "source": [
    "size = 5\n",
    "random_skills = np.random.choice(flat_tags, size=size)\n",
    "\n",
    "random_skill_indices = [flat_tag_dict[sk] \n",
    "                       for sk in random_skills]\n",
    "\n",
    "\n",
    "def find_N_coorcuring(matrix, tag_id, size=5):\n",
    "    \"\"\"\n",
    "    Returns the indices and the values \n",
    "    \"\"\"\n",
    "    skill_indices_n = matrix[tag_id, :].argsort()[::-1][:size]\n",
    "    skill_vals = matrix[tag_id, skill_indices_n]\n",
    "    return skill_indices_n, skill_vals\n",
    "\n",
    "\n",
    "for i in range(len(random_skills)):\n",
    "    skill_inds, vals = find_N_coorcuring(tag_matrix,\n",
    "                                        random_skill_indices[i])\n",
    "    coocs = [inverted_tag_dict[k] for k in skill_inds]\n",
    "    print(f\"Skill {random_skills[i]}\")\n",
    "    print(f\"\\tCoocs:{coocs}\")\n",
    "    print(f\"\\tVals: {vals}\")"
   ]
  },
  {
   "cell_type": "markdown",
   "metadata": {},
   "source": [
    "For a searched skill find N most coocuring \n",
    "and then compose matrix of size (N+1, N+1) containing the coocurences of all those skills"
   ]
  },
  {
   "cell_type": "code",
   "execution_count": 73,
   "metadata": {},
   "outputs": [],
   "source": [
    "import itertools\n",
    "size = 5\n",
    "random_skill = np.random.choice(flat_tags, size=1)\n",
    "random_skill_index = flat_tag_dict[random_skill[0]]\n",
    "\n",
    "rs_coocs, rs_vals = find_N_coorcuring(tag_matrix, random_skill_index)\n",
    "r_names = [inverted_tag_dict[index] for index in rs_coocs]\n",
    "all_names = r_names + random_skill.tolist()\n",
    "p_color_matrix = np.zeros(shape=(size+1, size+1))\n",
    "\n",
    "# 2 - pairwise combinations, no replacement\n",
    "label_indices = {tag: i for i, tag in enumerate(all_names)}\n",
    "for com in itertools.combinations(r_names, r=2):\n",
    "    l1, l2 = com \n",
    "    i1, i2 = label_indices[l1], label_indices[l2]\n",
    "    j1, j2 = flat_tag_dict[l1], flat_tag_dict[l2]\n",
    "\n",
    "    p_color_matrix[i1, i2] = tag_matrix[j1, j2]\n",
    "    p_color_matrix[i2, i1] = tag_matrix[j1, j2]"
   ]
  },
  {
   "cell_type": "code",
   "execution_count": 74,
   "metadata": {},
   "outputs": [
    {
     "data": {
      "text/plain": [
       "array([[  0., 306., 484., 328., 282.,   0.],\n",
       "       [306.,   0., 214., 174., 160.,   0.],\n",
       "       [484., 214.,   0., 674., 466.,   0.],\n",
       "       [328., 174., 674.,   0., 420.,   0.],\n",
       "       [282., 160., 466., 420.,   0.,   0.],\n",
       "       [  0.,   0.,   0.,   0.,   0.,   0.]])"
      ]
     },
     "execution_count": 74,
     "metadata": {},
     "output_type": "execute_result"
    }
   ],
   "source": [
    "p_color_matrix"
   ]
  },
  {
   "cell_type": "code",
   "execution_count": 77,
   "metadata": {},
   "outputs": [
    {
     "name": "stdout",
     "output_type": "stream",
     "text": [
      "['Java', 'Spring', 'English', 'Git', 'REST'] 5\n"
     ]
    }
   ],
   "source": [
    "print(r_names, len(r_names))"
   ]
  },
  {
   "cell_type": "code",
   "execution_count": 101,
   "metadata": {},
   "outputs": [
    {
     "name": "stderr",
     "output_type": "stream",
     "text": [
      "/usr/local/lib/python3.7/site-packages/ipykernel_launcher.py:38: MatplotlibDeprecationWarning: \n",
      "The tick1On function was deprecated in Matplotlib 3.1 and will be removed in 3.3. Use Tick.tick1line.set_visible instead.\n",
      "/usr/local/lib/python3.7/site-packages/ipykernel_launcher.py:39: MatplotlibDeprecationWarning: \n",
      "The tick2On function was deprecated in Matplotlib 3.1 and will be removed in 3.3. Use Tick.tick2line.set_visible instead.\n",
      "/usr/local/lib/python3.7/site-packages/ipykernel_launcher.py:41: MatplotlibDeprecationWarning: \n",
      "The tick1On function was deprecated in Matplotlib 3.1 and will be removed in 3.3. Use Tick.tick1line.set_visible instead.\n",
      "/usr/local/lib/python3.7/site-packages/ipykernel_launcher.py:42: MatplotlibDeprecationWarning: \n",
      "The tick2On function was deprecated in Matplotlib 3.1 and will be removed in 3.3. Use Tick.tick2line.set_visible instead.\n"
     ]
    },
    {
     "data": {
      "image/png": "[encoded data removed]",
      "text/plain": [
       "<Figure size 1133.86x566.929 with 1 Axes>"
      ]
     },
     "metadata": {
      "needs_background": "light"
     },
     "output_type": "display_data"
    }
   ],
   "source": [
    "heatmap(p_color_matrix, \"TEST\", \"T1\", \"T2\", all_names, all_names)"
   ]
  },
  {
   "cell_type": "code",
   "execution_count": 100,
   "metadata": {},
   "outputs": [],
   "source": [
    "def heatmap(AUC, title, xlabel, ylabel, xticklabels, yticklabels):\n",
    "    '''\n",
    "    Inspired by:\n",
    "    - http://stackoverflow.com/a/16124677/395857 \n",
    "    - http://stackoverflow.com/a/25074150/395857\n",
    "    '''\n",
    "\n",
    "    # Plot it out\n",
    "    fig, ax = plt.subplots()\n",
    "    c = ax.pcolor(AUC,\n",
    "                  edgecolors='k',\n",
    "                  linestyle='dashed',\n",
    "                  linewidths=0.2,\n",
    "                  cmap='RdBu',\n",
    "                  vmin=0.0,\n",
    "                  vmax=1.0)\n",
    "\n",
    "    # put the major ticks at the middle of each cell\n",
    "    ax.set_yticks(np.arange(AUC.shape[0]) + 0.5, minor=False)\n",
    "    ax.set_xticks(np.arange(AUC.shape[1]) + 0.5, minor=False)\n",
    "\n",
    "    # set tick labels\n",
    "    #ax.set_xticklabels(np.arange(1,AUC.shape[1]+1), minor=False)\n",
    "    ax.set_xticklabels(xticklabels, minor=False)\n",
    "    ax.set_yticklabels(yticklabels, minor=False)\n",
    "\n",
    "    # set title and x/y labels\n",
    "    plt.title(title)\n",
    "    plt.xlabel(xlabel)\n",
    "    plt.ylabel(ylabel)\n",
    "\n",
    "    # Remove last blank column\n",
    "    plt.xlim((0, AUC.shape[1]))\n",
    "\n",
    "    # Turn off all the ticks\n",
    "    ax = plt.gca()\n",
    "    for t in ax.xaxis.get_major_ticks():\n",
    "        t.tick1On = False\n",
    "        t.tick2On = False\n",
    "    for t in ax.yaxis.get_major_ticks():\n",
    "        t.tick1On = False\n",
    "        t.tick2On = False\n",
    "    # Add color bar\n",
    "#     plt.colorbar(c)\n",
    "\n",
    "    # Add text in each cell\n",
    "\n",
    "    for y in range(AUC.shape[0]):\n",
    "        for x in range(AUC.shape[1]):\n",
    "            plt.text(\n",
    "                x + 0.5,\n",
    "                y + 0.5,\n",
    "                int(AUC[y, x]),\n",
    "                horizontalalignment='center',\n",
    "                verticalalignment='center',\n",
    "                color='white'\n",
    "            )\n",
    "\n",
    "    # Proper orientation (origin at the top left instead of bottom left)\n",
    "    ax.invert_yaxis()\n",
    "    ax.xaxis.tick_top()\n",
    "\n",
    "    # resize\n",
    "    fig = plt.gcf()\n",
    "    fig.set_size_inches(cm2inch(40, 20))"
   ]
  },
  {
   "cell_type": "code",
   "execution_count": null,
   "metadata": {},
   "outputs": [],
   "source": []
  }
 ],
 "metadata": {
  "kernelspec": {
   "display_name": "Python 3.7.5 64-bit",
   "language": "python",
   "name": "python37564bit7ce80e6ffd5541afa30713fa31257036"
  },
  "language_info": {
   "codemirror_mode": {
    "name": "ipython",
    "version": 3
   },
   "file_extension": ".py",
   "mimetype": "text/x-python",
   "name": "python",
   "nbconvert_exporter": "python",
   "pygments_lexer": "ipython3",
   "version": "3.7.5"
  }
 },
 "nbformat": 4,
 "nbformat_minor": 2
}
