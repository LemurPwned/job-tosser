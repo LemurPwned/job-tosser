{
 "cells": [
  {
   "cell_type": "code",
   "execution_count": 19,
   "metadata": {},
   "outputs": [],
   "source": [
    "import pandas as pd\n",
    "import ast\n",
    "import numpy as np \n",
    "import matplotlib.pyplot as plt\n",
    "from sklearn.neighbors import KNeighborsClassifier, NeighborhoodComponentsAnalysis\n",
    "from collections import defaultdict"
   ]
  },
  {
   "cell_type": "code",
   "execution_count": 13,
   "metadata": {},
   "outputs": [
    {
     "data": {
      "text/html": [
       "<div>\n",
       "<style scoped>\n",
       "    .dataframe tbody tr th:only-of-type {\n",
       "        vertical-align: middle;\n",
       "    }\n",
       "\n",
       "    .dataframe tbody tr th {\n",
       "        vertical-align: top;\n",
       "    }\n",
       "\n",
       "    .dataframe thead th {\n",
       "        text-align: right;\n",
       "    }\n",
       "</style>\n",
       "<table border=\"1\" class=\"dataframe\">\n",
       "  <thead>\n",
       "    <tr style=\"text-align: right;\">\n",
       "      <th></th>\n",
       "      <th>Role</th>\n",
       "      <th>Tags</th>\n",
       "      <th>Additional</th>\n",
       "      <th>tag</th>\n",
       "    </tr>\n",
       "  </thead>\n",
       "  <tbody>\n",
       "    <tr>\n",
       "      <th>0</th>\n",
       "      <td>React Frontend Developer</td>\n",
       "      <td>[' React', ' JavaScript', ' CSS', ' Git', ' RE...</td>\n",
       "      <td>{' Job profile ': ' Mainly new features ', ' S...</td>\n",
       "      <td>[React, JavaScript, CSS, Git, REST, html5, nod...</td>\n",
       "    </tr>\n",
       "    <tr>\n",
       "      <th>1</th>\n",
       "      <td>C++ Engineer</td>\n",
       "      <td>[' C++', ' Linux', ' STL', ' Boost', ' unit te...</td>\n",
       "      <td>{' Job profile ': ' Mainly new features ', ' S...</td>\n",
       "      <td>[C++, Linux, STL, Boost, unit test, Jenkins, d...</td>\n",
       "    </tr>\n",
       "    <tr>\n",
       "      <th>2</th>\n",
       "      <td>Front End Developer</td>\n",
       "      <td>[' Angular', ' JavaScript', ' CSS', ' HTML', '...</td>\n",
       "      <td>{' Job profile ': ' Mainly new features ', ' S...</td>\n",
       "      <td>[Angular, JavaScript, CSS, HTML, React, Design...</td>\n",
       "    </tr>\n",
       "    <tr>\n",
       "      <th>3</th>\n",
       "      <td>Frontend Developer</td>\n",
       "      <td>[' JavaScript', ' jQuery', ' Angular', ' CSS',...</td>\n",
       "      <td>{' Job profile ': ' Mainly new features ', ' S...</td>\n",
       "      <td>[JavaScript, jQuery, Angular, CSS, HTML, redux...</td>\n",
       "    </tr>\n",
       "    <tr>\n",
       "      <th>4</th>\n",
       "      <td>Python Developer</td>\n",
       "      <td>[' Python', ' Django', ' PostgreSQL', ' experi...</td>\n",
       "      <td>{' Start ': ' 2020-05-01 ', ' Contract duratio...</td>\n",
       "      <td>[Python, Django, PostgreSQL, experience in dev...</td>\n",
       "    </tr>\n",
       "  </tbody>\n",
       "</table>\n",
       "</div>"
      ],
      "text/plain": [
       "                       Role  \\\n",
       "0  React Frontend Developer   \n",
       "1              C++ Engineer   \n",
       "2       Front End Developer   \n",
       "3        Frontend Developer   \n",
       "4          Python Developer   \n",
       "\n",
       "                                                Tags  \\\n",
       "0  [' React', ' JavaScript', ' CSS', ' Git', ' RE...   \n",
       "1  [' C++', ' Linux', ' STL', ' Boost', ' unit te...   \n",
       "2  [' Angular', ' JavaScript', ' CSS', ' HTML', '...   \n",
       "3  [' JavaScript', ' jQuery', ' Angular', ' CSS',...   \n",
       "4  [' Python', ' Django', ' PostgreSQL', ' experi...   \n",
       "\n",
       "                                          Additional  \\\n",
       "0  {' Job profile ': ' Mainly new features ', ' S...   \n",
       "1  {' Job profile ': ' Mainly new features ', ' S...   \n",
       "2  {' Job profile ': ' Mainly new features ', ' S...   \n",
       "3  {' Job profile ': ' Mainly new features ', ' S...   \n",
       "4  {' Start ': ' 2020-05-01 ', ' Contract duratio...   \n",
       "\n",
       "                                                 tag  \n",
       "0  [React, JavaScript, CSS, Git, REST, html5, nod...  \n",
       "1  [C++, Linux, STL, Boost, unit test, Jenkins, d...  \n",
       "2  [Angular, JavaScript, CSS, HTML, React, Design...  \n",
       "3  [JavaScript, jQuery, Angular, CSS, HTML, redux...  \n",
       "4  [Python, Django, PostgreSQL, experience in dev...  "
      ]
     },
     "execution_count": 13,
     "metadata": {},
     "output_type": "execute_result"
    }
   ],
   "source": [
    "df = pd.read_csv('../noFluffJobs/no_fluffs.csv')\n",
    "df = df.drop('Unnamed: 0', axis=1)\n",
    "\n",
    "\n",
    "def filter_tags(str_tag_list):\n",
    "    tag_list = ast.literal_eval(str_tag_list)\n",
    "    return [x.strip() for x in tag_list]\n",
    "\n",
    "\n",
    "df['tag'] = df['Tags'].apply(filter_tags)\n",
    "df.head()"
   ]
  },
  {
   "cell_type": "code",
   "execution_count": 15,
   "metadata": {},
   "outputs": [
    {
     "data": {
      "text/plain": [
       "\"{' Start ': ' ASAP ', ' Contract duration ': ' Permanent contract ', ' Paid holiday ': ' B2B - No  +1 ', ' Part time work ': ' No ', ' Remote possible ': ' Yes (1 day a week) ', ' Flexible hours ': ' No ', ' Travel involved ': ' No ', ' Freedom to choose tools ': ' Yes '}\""
      ]
     },
     "execution_count": 15,
     "metadata": {},
     "output_type": "execute_result"
    }
   ],
   "source": [
    "df['Additional'].iloc[300]"
   ]
  },
  {
   "cell_type": "markdown",
   "metadata": {},
   "source": [
    "## Create the adjacency matrix\n",
    "\n",
    "See which tags are coocurring"
   ]
  },
  {
   "cell_type": "code",
   "execution_count": 23,
   "metadata": {},
   "outputs": [],
   "source": [
    "tag_dict = defaultdict(list)\n",
    "all_tags = df['tag'].tolist()\n",
    "\n",
    "flat_tags = [tag for tag_list in all_tags for tag in tag_list]\n",
    "flat_tag_dict = {tag: i for i, tag in enumerate(flat_tags)}\n",
    "tag_matrix = np.zeros(shape=(len(flat_tags), len(flat_tags)), dtype=np.uint8)\n",
    "\n",
    "for tag_list in all_tags:\n",
    "    for i in range(len(tag_list)):\n",
    "        for j in range(len(tag_list)):\n",
    "            if i == j: \n",
    "                continue\n",
    "            i_tag = flat_tag_dict[tag_list[i]]\n",
    "            j_tag = flat_tag_dict[tag_list[j]]\n",
    "            tag_matrix[i_tag, j_tag] += 1\n",
    "            tag_matrix[j_tag, i_tag] += 1"
   ]
  },
  {
   "cell_type": "code",
   "execution_count": 26,
   "metadata": {},
   "outputs": [
    {
     "name": "stderr",
     "output_type": "stream",
     "text": [
      "/usr/local/lib/python3.7/site-packages/ipykernel_launcher.py:1: RuntimeWarning: divide by zero encountered in true_divide\n",
      "  \"\"\"Entry point for launching an IPython kernel.\n"
     ]
    }
   ],
   "source": [
    "metrics_matrix = 1.0/tag_matrix.astype(np.float16)"
   ]
  },
  {
   "cell_type": "code",
   "execution_count": null,
   "metadata": {},
   "outputs": [],
   "source": [
    "nca = make_pipeline(StandardScaler(),\n",
    "                    NeighborhoodComponentsAnalysis(n_components=2,\n",
    "                                                   random_state=random_state))\n",
    "\n",
    "\n",
    "model.fit(X_train, y_train)\n",
    "\n",
    "# Fit a nearest neighbor classifier on the embedded training set\n",
    "knn.fit(model.transform(X_train), y_train)"
   ]
  }
 ],
 "metadata": {
  "kernelspec": {
   "display_name": "Python 3.7.5 64-bit",
   "language": "python",
   "name": "python37564bit7ce80e6ffd5541afa30713fa31257036"
  },
  "language_info": {
   "codemirror_mode": {
    "name": "ipython",
    "version": 3
   },
   "file_extension": ".py",
   "mimetype": "text/x-python",
   "name": "python",
   "nbconvert_exporter": "python",
   "pygments_lexer": "ipython3",
   "version": "3.7.5"
  }
 },
 "nbformat": 4,
 "nbformat_minor": 2
}
