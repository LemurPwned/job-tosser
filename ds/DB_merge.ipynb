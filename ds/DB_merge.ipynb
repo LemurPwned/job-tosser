{
 "cells": [
  {
   "cell_type": "code",
   "execution_count": 19,
   "metadata": {},
   "outputs": [],
   "source": [
    "import pandas as pd \n",
    "import ast \n",
    "import numpy as np \n",
    "import matplotlib.pyplot as plt\n",
    "from collections import defaultdict"
   ]
  },
  {
   "cell_type": "code",
   "execution_count": 25,
   "metadata": {
    "scrolled": false
   },
   "outputs": [
    {
     "output_type": "stream",
     "name": "stdout",
     "text": "1074 1074 1074 1074\n12809 12809 12809 1074\n"
    }
   ],
   "source": [
    "db_fluff = pd.read_csv('../data/no_fluffs.csv')\n",
    "db_so = pd.read_csv('../data/so.csv')\n",
    "db_so.rename(columns={\n",
    "    \"job_type\": \"Time\",\n",
    "    \"role\": \"Role\",\n",
    "    'company_size': 'Size',\n",
    "    \"company_type\": \"Company\",\n",
    "    \"tags\": \"Tags\",\n",
    "    'industry': 'Industry',\n",
    "    'experience': 'Experience',\n",
    "    'location': 'Locations',\n",
    "    'salary': \"Salary\",\n",
    "    'remote': \"Remote\"\n",
    "},\n",
    "             inplace=True)\n",
    "\n",
    "def to_eur(money, currency):\n",
    "    if currency == 'EUR' or currency == '€':\n",
    "        return money\n",
    "    elif currency == 'USD' or currency == '$':\n",
    "        return money / 1.08\n",
    "    elif currency == 'A$' or currency == 'AUD':\n",
    "        return money / 1.80\n",
    "    elif currency == 'PLN':\n",
    "        return money / 4.58\n",
    "    elif currency == 'kr':\n",
    "        return money / 11.00\n",
    "    elif currency == 'GBP' or currency == '£':\n",
    "        return money / 0.88\n",
    "    elif currency == 'CHF':\n",
    "        return money / 1.06\n",
    "    elif currency == 'CAD' or currency == 'C$':\n",
    "        return money / 1.53\n",
    "    elif currency == 'HUF':\n",
    "        return money / 367.93\n",
    "    elif currency == 'CZK':\n",
    "        return money / 27.78\n",
    "    elif currency == '₹' or currency == 'JPY':\n",
    "        return money / 117.25\n",
    "    else:\n",
    "        None\n",
    "\n",
    "def to_annual_eur(money, currency):\n",
    "    money = float(money)\n",
    "    if currency == 'PLN':\n",
    "\n",
    "        # Per hour\n",
    "        if money <= 500:\n",
    "            money *= 160\n",
    "\n",
    "        # Per day\n",
    "        if money > 500 and money <= 2000:\n",
    "            money *= 20\n",
    "\n",
    "        # To year\n",
    "        money *= 12\n",
    "\n",
    "    if currency == '$':\n",
    "        # To year salary\n",
    "        if money < 1000:\n",
    "            money *= 160 * 12\n",
    "\n",
    "    return to_eur(money, currency)\n",
    "\n",
    "def match_salaries(salary_str):\n",
    "    if not salary_str:\n",
    "        return 0.0, 0.0, None\n",
    "    if isinstance(salary_str, float):\n",
    "        return 0.0, 0.0, None\n",
    "    if '-' in salary_str:\n",
    "        res = salary_str.strip().split(' ')\n",
    "        if len(res) == 4:\n",
    "            min_s, _, max_s, currency = res \n",
    "        elif len(res) == 5:\n",
    "            min_s, _, max_s, currency, _ = res \n",
    "    else:\n",
    "        min_s, currency = salary_str.strip().split(' ')\n",
    "        max_s = min_s\n",
    "        \n",
    "    min_s = min_s.lower()\n",
    "    max_s = max_s.lower()\n",
    "    if 'k' in min_s:\n",
    "        min_s = float(min_s.replace('k', '')) * 1e3\n",
    "    elif 'm' in min_s:\n",
    "        min_s = float(min_s.replace('m', '')) * 1e6\n",
    "    else:\n",
    "        min_s = int(min_s)\n",
    "    if 'k' in max_s:\n",
    "        max_s = float(max_s.replace('k', '')) * 1e3\n",
    "    elif 'm' in max_s:\n",
    "        max_s = float(max_s.replace('m', '')) * 1e6\n",
    "    else:\n",
    "        max_s = float(max_s)\n",
    "\n",
    "    return [min_s, max_s, currency]\n",
    "\n",
    "\n",
    "res = db_fluff['Salary'].apply(match_salaries).values\n",
    "min_s, max_s, curr_s, min_annual_eur, max_annual_eur = [], [], [], [], []\n",
    "for mins, maxs, currs in res:\n",
    "    min_s.append(mins)\n",
    "    max_s.append(maxs)\n",
    "    curr_s.append(currs)\n",
    "    min_annual_eur.append( to_annual_eur(mins, currs) )\n",
    "    max_annual_eur.append( to_annual_eur(maxs, currs) )\n",
    "\n",
    "print(len(curr_s), len(min_s), len(max_s), len(db_fluff))\n",
    "db_fluff['Min_Salary'] = min_s\n",
    "db_fluff['Max_Salary'] = max_s\n",
    "db_fluff['Currency'] = curr_s\n",
    "db_fluff['Min_Annual_Eur_Salary'] = min_annual_eur\n",
    "db_fluff['Max_Annual_Eur_Salary'] = max_annual_eur\n",
    "\n",
    "null_tuple = (0., 0., None)\n",
    "\n",
    "def match_salaries(salary_str):\n",
    "    if salary_str == 'None':\n",
    "        return null_tuple\n",
    "    if isinstance(salary_str, float):\n",
    "        return null_tuplee\n",
    "    for syf in ['MXN', 'SGD', 'NT']:\n",
    "        if salary_str.find(syf) != -1:\n",
    "            return null_tuple\n",
    "    currency = None \n",
    "    \n",
    "    for repl_val in ['A$', 'C$', '$', '€', 'CHF', 'PLN', 'NZD',\n",
    "                     'DKK', 'SEK', 'INR', 'GBP', '£',\n",
    "                    'CAD', 'kr', 'zł', 'USD', '₹', '¥', \n",
    "                    'Php', 'RM']:\n",
    "        if not currency and repl_val in salary_str:\n",
    "            currency = repl_val\n",
    "        salary_str = salary_str.replace(repl_val, '')\n",
    "        \n",
    "    salary_str = salary_str.strip()\n",
    "#     print(salary_str, currency)\n",
    "    \n",
    "    if '-' in salary_str:\n",
    "        res = salary_str.strip().split(' ')\n",
    "        if currency:\n",
    "            min_s, max_s = res[0], res[2]\n",
    "        elif len(res) == 3:\n",
    "            min_s, _, max_s = res \n",
    "        elif len(res) == 4:\n",
    "            min_s, _, max_s, currency = res \n",
    "        elif len(res) == 5:\n",
    "            min_s, _, max_s, currency, _ = res \n",
    "\n",
    "    else:\n",
    "        min_s, currency = salary_str.strip().split(' ')\n",
    "        max_s = min_s\n",
    "    \n",
    "    min_s = min_s.lower()\n",
    "    max_s = max_s.lower()\n",
    "\n",
    "    if 'k' in min_s:\n",
    "        min_s = float(min_s.replace('k', '')) * 1e3\n",
    "    elif 'm' in min_s:\n",
    "        min_s = float(min_s.replace('m', '')) * 1e6\n",
    "    else:\n",
    "        min_s = int(min_s)\n",
    "    if 'k' in max_s:\n",
    "        max_s = float(max_s.replace('k', '')) * 1e3\n",
    "    elif 'm' in max_s:\n",
    "        max_s = float(max_s.replace('m', '')) * 1e6\n",
    "    else:\n",
    "        max_s = float(max_s)\n",
    "\n",
    "    return [min_s, max_s, currency]\n",
    "\n",
    "\n",
    "res = db_so['Salary'].apply(match_salaries).values\n",
    "min_s, max_s, curr_s, min_annual_eur, max_annual_eur = [], [], [], [], []\n",
    "for mins, maxs, currs in res:\n",
    "    min_s.append(mins)\n",
    "    max_s.append(maxs)\n",
    "    curr_s.append(currs)\n",
    "    min_annual_eur.append( to_annual_eur(mins, currs) )\n",
    "    max_annual_eur.append( to_annual_eur(maxs, currs) )\n",
    "\n",
    "print(len(curr_s), len(min_s), len(max_s), len(db_fluff))\n",
    "db_so['Min_Salary'] = min_s\n",
    "db_so['Max_Salary'] = max_s\n",
    "db_so['Currency'] = curr_s\n",
    "db_so['Min_Annual_Eur_Salary'] = min_annual_eur\n",
    "db_so['Max_Annual_Eur_Salary'] = max_annual_eur\n",
    "\n",
    "\n",
    "def filter_tags(str_tag_list):\n",
    "    tag_list = ast.literal_eval(str_tag_list)\n",
    "    if not tag_list:\n",
    "        return tag_list\n",
    "    return [x.lower().strip() for x in tag_list]\n",
    "\n",
    "\n",
    "db_fluff['Tags'] = db_fluff['Tags'].apply(filter_tags)\n",
    "db_so['Tags'] = db_so['Tags'].apply(filter_tags)"
   ]
  },
  {
   "cell_type": "code",
   "execution_count": 26,
   "metadata": {},
   "outputs": [
    {
     "output_type": "execute_result",
     "data": {
      "text/plain": "                                       Role  \\\n0                  React Frontend Developer   \n1                       Front End Developer   \n2                        Frontend Developer   \n3                          Python Developer   \n4  Mid/Senior Java Developer (with English)   \n\n                                                Tags  \\\n0  [react, javascript, css, git, rest, html5, nod...   \n1  [angular, javascript, css, html, react, design...   \n2  [javascript, jquery, angular, css, html, redux...   \n3  [python, django, postgresql, experience in dev...   \n4  [java, spring, hibernate, javascript, angular,...   \n\n                                          Additional               Salary  \\\n0  {' Job profile ': ' Mainly new features ', ' S...     600k - 1.2M HUF    \n1  {' Job profile ': ' Mainly new features ', ' S...    8000 - 15000 PLN    \n2  {' Job profile ': ' Mainly new features ', ' S...      900 - 1300 PLN    \n3  {' Start ': ' 2020-05-01 ', ' Contract duratio...   12000 - 14000 PLN    \n4  {' Job profile ': ' Mainly new features ', ' S...    8000 - 16000 PLN    \n\n            Locations  Min_Salary  Max_Salary Currency  Min_Annual_Eur_Salary  \\\n0           Budapest     600000.0   1200000.0      HUF            1630.744979   \n1             Kraków       8000.0     15000.0      PLN           20960.698690   \n2   Kraków, Katowice        900.0      1300.0      PLN           47161.572052   \n3           Warszawa      12000.0     14000.0      PLN           31441.048035   \n4            Wrocław       8000.0     16000.0      PLN           20960.698690   \n\n   Max_Annual_Eur_Salary  \n0            3261.489957  \n1           39301.310044  \n2           68122.270742  \n3           36681.222707  \n4           41921.397380  ",
      "text/html": "<div>\n<style scoped>\n    .dataframe tbody tr th:only-of-type {\n        vertical-align: middle;\n    }\n\n    .dataframe tbody tr th {\n        vertical-align: top;\n    }\n\n    .dataframe thead th {\n        text-align: right;\n    }\n</style>\n<table border=\"1\" class=\"dataframe\">\n  <thead>\n    <tr style=\"text-align: right;\">\n      <th></th>\n      <th>Role</th>\n      <th>Tags</th>\n      <th>Additional</th>\n      <th>Salary</th>\n      <th>Locations</th>\n      <th>Min_Salary</th>\n      <th>Max_Salary</th>\n      <th>Currency</th>\n      <th>Min_Annual_Eur_Salary</th>\n      <th>Max_Annual_Eur_Salary</th>\n    </tr>\n  </thead>\n  <tbody>\n    <tr>\n      <th>0</th>\n      <td>React Frontend Developer</td>\n      <td>[react, javascript, css, git, rest, html5, nod...</td>\n      <td>{' Job profile ': ' Mainly new features ', ' S...</td>\n      <td>600k - 1.2M HUF</td>\n      <td>Budapest</td>\n      <td>600000.0</td>\n      <td>1200000.0</td>\n      <td>HUF</td>\n      <td>1630.744979</td>\n      <td>3261.489957</td>\n    </tr>\n    <tr>\n      <th>1</th>\n      <td>Front End Developer</td>\n      <td>[angular, javascript, css, html, react, design...</td>\n      <td>{' Job profile ': ' Mainly new features ', ' S...</td>\n      <td>8000 - 15000 PLN</td>\n      <td>Kraków</td>\n      <td>8000.0</td>\n      <td>15000.0</td>\n      <td>PLN</td>\n      <td>20960.698690</td>\n      <td>39301.310044</td>\n    </tr>\n    <tr>\n      <th>2</th>\n      <td>Frontend Developer</td>\n      <td>[javascript, jquery, angular, css, html, redux...</td>\n      <td>{' Job profile ': ' Mainly new features ', ' S...</td>\n      <td>900 - 1300 PLN</td>\n      <td>Kraków, Katowice</td>\n      <td>900.0</td>\n      <td>1300.0</td>\n      <td>PLN</td>\n      <td>47161.572052</td>\n      <td>68122.270742</td>\n    </tr>\n    <tr>\n      <th>3</th>\n      <td>Python Developer</td>\n      <td>[python, django, postgresql, experience in dev...</td>\n      <td>{' Start ': ' 2020-05-01 ', ' Contract duratio...</td>\n      <td>12000 - 14000 PLN</td>\n      <td>Warszawa</td>\n      <td>12000.0</td>\n      <td>14000.0</td>\n      <td>PLN</td>\n      <td>31441.048035</td>\n      <td>36681.222707</td>\n    </tr>\n    <tr>\n      <th>4</th>\n      <td>Mid/Senior Java Developer (with English)</td>\n      <td>[java, spring, hibernate, javascript, angular,...</td>\n      <td>{' Job profile ': ' Mainly new features ', ' S...</td>\n      <td>8000 - 16000 PLN</td>\n      <td>Wrocław</td>\n      <td>8000.0</td>\n      <td>16000.0</td>\n      <td>PLN</td>\n      <td>20960.698690</td>\n      <td>41921.397380</td>\n    </tr>\n  </tbody>\n</table>\n</div>"
     },
     "metadata": {},
     "execution_count": 26
    }
   ],
   "source": [
    "db_fluff.head()"
   ]
  },
  {
   "cell_type": "code",
   "execution_count": 28,
   "metadata": {},
   "outputs": [
    {
     "output_type": "execute_result",
     "data": {
      "text/plain": "        Time         Experience                                 Role  \\\n0  Full-time  Mid-Level, Senior                                 None   \n1  Full-time  Mid-Level, Senior                               DevOps   \n2  Full-time               None                     Mobile Developer   \n3  Full-time               None                                 None   \n4  Full-time               None  Backend Developer, Mobile Developer   \n\n                                            Industry            Size  \\\n0  Online Media, Software Development / Engineeri...    1k–5k people   \n1            Digital Health, Health Care, Healthcare  201–500 people   \n2                                               None            None   \n3                                               None            None   \n4                                               None            None   \n\n     Company                     Salary Remote              Locations  \\\n0    Private                       None   None  Amsterdam,Netherlands   \n1  VC Funded  $130k - 150k (US Dollars)   None              Denver,CO   \n2       None                       None   None             Pune,India   \n3       None                       None   None       MinatoCity,Japan   \n4       None                       None   None           Mumbai,India   \n\n                                                Tags  Min_Salary  Max_Salary  \\\n0      [amazon-web-services, aws, cloud, go, python]         0.0         0.0   \n1  [python, google-cloud-platform, postgresql, do...    130000.0    150000.0   \n2                              [reactjs, ios, swift]         0.0         0.0   \n3                     [amazon-web-services, go, php]         0.0         0.0   \n4                              [android, java, rest]         0.0         0.0   \n\n  Currency  Min_Annual_Eur_Salary  Max_Annual_Eur_Salary  \n0     None                    NaN                    NaN  \n1        $                    NaN                    NaN  \n2     None                    NaN                    NaN  \n3     None                    NaN                    NaN  \n4     None                    NaN                    NaN  ",
      "text/html": "<div>\n<style scoped>\n    .dataframe tbody tr th:only-of-type {\n        vertical-align: middle;\n    }\n\n    .dataframe tbody tr th {\n        vertical-align: top;\n    }\n\n    .dataframe thead th {\n        text-align: right;\n    }\n</style>\n<table border=\"1\" class=\"dataframe\">\n  <thead>\n    <tr style=\"text-align: right;\">\n      <th></th>\n      <th>Time</th>\n      <th>Experience</th>\n      <th>Role</th>\n      <th>Industry</th>\n      <th>Size</th>\n      <th>Company</th>\n      <th>Salary</th>\n      <th>Remote</th>\n      <th>Locations</th>\n      <th>Tags</th>\n      <th>Min_Salary</th>\n      <th>Max_Salary</th>\n      <th>Currency</th>\n      <th>Min_Annual_Eur_Salary</th>\n      <th>Max_Annual_Eur_Salary</th>\n    </tr>\n  </thead>\n  <tbody>\n    <tr>\n      <th>0</th>\n      <td>Full-time</td>\n      <td>Mid-Level, Senior</td>\n      <td>None</td>\n      <td>Online Media, Software Development / Engineeri...</td>\n      <td>1k–5k people</td>\n      <td>Private</td>\n      <td>None</td>\n      <td>None</td>\n      <td>Amsterdam,Netherlands</td>\n      <td>[amazon-web-services, aws, cloud, go, python]</td>\n      <td>0.0</td>\n      <td>0.0</td>\n      <td>None</td>\n      <td>NaN</td>\n      <td>NaN</td>\n    </tr>\n    <tr>\n      <th>1</th>\n      <td>Full-time</td>\n      <td>Mid-Level, Senior</td>\n      <td>DevOps</td>\n      <td>Digital Health, Health Care, Healthcare</td>\n      <td>201–500 people</td>\n      <td>VC Funded</td>\n      <td>$130k - 150k (US Dollars)</td>\n      <td>None</td>\n      <td>Denver,CO</td>\n      <td>[python, google-cloud-platform, postgresql, do...</td>\n      <td>130000.0</td>\n      <td>150000.0</td>\n      <td>$</td>\n      <td>NaN</td>\n      <td>NaN</td>\n    </tr>\n    <tr>\n      <th>2</th>\n      <td>Full-time</td>\n      <td>None</td>\n      <td>Mobile Developer</td>\n      <td>None</td>\n      <td>None</td>\n      <td>None</td>\n      <td>None</td>\n      <td>None</td>\n      <td>Pune,India</td>\n      <td>[reactjs, ios, swift]</td>\n      <td>0.0</td>\n      <td>0.0</td>\n      <td>None</td>\n      <td>NaN</td>\n      <td>NaN</td>\n    </tr>\n    <tr>\n      <th>3</th>\n      <td>Full-time</td>\n      <td>None</td>\n      <td>None</td>\n      <td>None</td>\n      <td>None</td>\n      <td>None</td>\n      <td>None</td>\n      <td>None</td>\n      <td>MinatoCity,Japan</td>\n      <td>[amazon-web-services, go, php]</td>\n      <td>0.0</td>\n      <td>0.0</td>\n      <td>None</td>\n      <td>NaN</td>\n      <td>NaN</td>\n    </tr>\n    <tr>\n      <th>4</th>\n      <td>Full-time</td>\n      <td>None</td>\n      <td>Backend Developer, Mobile Developer</td>\n      <td>None</td>\n      <td>None</td>\n      <td>None</td>\n      <td>None</td>\n      <td>None</td>\n      <td>Mumbai,India</td>\n      <td>[android, java, rest]</td>\n      <td>0.0</td>\n      <td>0.0</td>\n      <td>None</td>\n      <td>NaN</td>\n      <td>NaN</td>\n    </tr>\n  </tbody>\n</table>\n</div>"
     },
     "metadata": {},
     "execution_count": 28
    }
   ],
   "source": [
    "db_so.head()"
   ]
  },
  {
   "cell_type": "code",
   "execution_count": 29,
   "metadata": {},
   "outputs": [
    {
     "output_type": "execute_result",
     "data": {
      "text/plain": "         Time                 Experience              Role  \\\n1   Full-time          Mid-Level, Senior            DevOps   \n28  Full-time    Mid-Level, Senior, Lead  Mobile Developer   \n49  Full-time          Mid-Level, Senior              None   \n60  Full-time          Mid-Level, Senior              None   \n95  Full-time  Junior, Mid-Level, Senior  Mobile Developer   \n\n                                             Industry            Size  \\\n1             Digital Health, Health Care, Healthcare  201–500 people   \n28          Communications, Enterprise Software, SaaS     1–10 people   \n49  Computer Software, Mobile Application, Web Dev...    11–50 people   \n60  Hardware Development, Software Development, So...   51–200 people   \n95                                               None            None   \n\n      Company                     Salary                   Remote  \\\n1   VC Funded  $130k - 150k (US Dollars)                     None   \n28  VC Funded   $90k - 130k (US Dollars)  On-siteandlimitedremote   \n49    Private   $60k - 120k (US Dollars)                     None   \n60    Private         €47k - 63k (Euros)  On-siteandlimitedremote   \n95       None         €50k - 62k (Euros)                     None   \n\n                Locations                                               Tags  \\\n1               Denver,CO  [python, google-cloud-platform, postgresql, do...   \n28          LosAngeles,CA                                                 []   \n49       Kowloon,HongKong                                           [kotlin]   \n60  Eindhoven,Netherlands                                                 []   \n95     Berlin,Deutschland                      [ios, swift, blockchain, eos]   \n\n    Min_Salary  Max_Salary Currency  Min_Annual_Eur_Salary  \\\n1     130000.0    150000.0        $                    NaN   \n28     90000.0    130000.0        $                    NaN   \n49     60000.0    120000.0        $                    NaN   \n60     47000.0     63000.0        €                    NaN   \n95     50000.0     62000.0        €                    NaN   \n\n    Max_Annual_Eur_Salary  \n1                     NaN  \n28                    NaN  \n49                    NaN  \n60                    NaN  \n95                    NaN  ",
      "text/html": "<div>\n<style scoped>\n    .dataframe tbody tr th:only-of-type {\n        vertical-align: middle;\n    }\n\n    .dataframe tbody tr th {\n        vertical-align: top;\n    }\n\n    .dataframe thead th {\n        text-align: right;\n    }\n</style>\n<table border=\"1\" class=\"dataframe\">\n  <thead>\n    <tr style=\"text-align: right;\">\n      <th></th>\n      <th>Time</th>\n      <th>Experience</th>\n      <th>Role</th>\n      <th>Industry</th>\n      <th>Size</th>\n      <th>Company</th>\n      <th>Salary</th>\n      <th>Remote</th>\n      <th>Locations</th>\n      <th>Tags</th>\n      <th>Min_Salary</th>\n      <th>Max_Salary</th>\n      <th>Currency</th>\n      <th>Min_Annual_Eur_Salary</th>\n      <th>Max_Annual_Eur_Salary</th>\n    </tr>\n  </thead>\n  <tbody>\n    <tr>\n      <th>1</th>\n      <td>Full-time</td>\n      <td>Mid-Level, Senior</td>\n      <td>DevOps</td>\n      <td>Digital Health, Health Care, Healthcare</td>\n      <td>201–500 people</td>\n      <td>VC Funded</td>\n      <td>$130k - 150k (US Dollars)</td>\n      <td>None</td>\n      <td>Denver,CO</td>\n      <td>[python, google-cloud-platform, postgresql, do...</td>\n      <td>130000.0</td>\n      <td>150000.0</td>\n      <td>$</td>\n      <td>NaN</td>\n      <td>NaN</td>\n    </tr>\n    <tr>\n      <th>28</th>\n      <td>Full-time</td>\n      <td>Mid-Level, Senior, Lead</td>\n      <td>Mobile Developer</td>\n      <td>Communications, Enterprise Software, SaaS</td>\n      <td>1–10 people</td>\n      <td>VC Funded</td>\n      <td>$90k - 130k (US Dollars)</td>\n      <td>On-siteandlimitedremote</td>\n      <td>LosAngeles,CA</td>\n      <td>[]</td>\n      <td>90000.0</td>\n      <td>130000.0</td>\n      <td>$</td>\n      <td>NaN</td>\n      <td>NaN</td>\n    </tr>\n    <tr>\n      <th>49</th>\n      <td>Full-time</td>\n      <td>Mid-Level, Senior</td>\n      <td>None</td>\n      <td>Computer Software, Mobile Application, Web Dev...</td>\n      <td>11–50 people</td>\n      <td>Private</td>\n      <td>$60k - 120k (US Dollars)</td>\n      <td>None</td>\n      <td>Kowloon,HongKong</td>\n      <td>[kotlin]</td>\n      <td>60000.0</td>\n      <td>120000.0</td>\n      <td>$</td>\n      <td>NaN</td>\n      <td>NaN</td>\n    </tr>\n    <tr>\n      <th>60</th>\n      <td>Full-time</td>\n      <td>Mid-Level, Senior</td>\n      <td>None</td>\n      <td>Hardware Development, Software Development, So...</td>\n      <td>51–200 people</td>\n      <td>Private</td>\n      <td>€47k - 63k (Euros)</td>\n      <td>On-siteandlimitedremote</td>\n      <td>Eindhoven,Netherlands</td>\n      <td>[]</td>\n      <td>47000.0</td>\n      <td>63000.0</td>\n      <td>€</td>\n      <td>NaN</td>\n      <td>NaN</td>\n    </tr>\n    <tr>\n      <th>95</th>\n      <td>Full-time</td>\n      <td>Junior, Mid-Level, Senior</td>\n      <td>Mobile Developer</td>\n      <td>None</td>\n      <td>None</td>\n      <td>None</td>\n      <td>€50k - 62k (Euros)</td>\n      <td>None</td>\n      <td>Berlin,Deutschland</td>\n      <td>[ios, swift, blockchain, eos]</td>\n      <td>50000.0</td>\n      <td>62000.0</td>\n      <td>€</td>\n      <td>NaN</td>\n      <td>NaN</td>\n    </tr>\n  </tbody>\n</table>\n</div>"
     },
     "metadata": {},
     "execution_count": 29
    }
   ],
   "source": [
    "db_so[db_so['Salary'] != 'None'].head()"
   ]
  },
  {
   "cell_type": "code",
   "execution_count": 30,
   "metadata": {},
   "outputs": [],
   "source": [
    "df_major = pd.concat([db_so, db_fluff])"
   ]
  },
  {
   "cell_type": "code",
   "execution_count": 31,
   "metadata": {},
   "outputs": [],
   "source": [
    "df_major = df_major[df_major['Role'] != 'None']\n",
    "df_major['Time'].fillna(value='Full-time', inplace=True)\n",
    "df_major['Experience'].fillna(value='Mid-Level', inplace=True)"
   ]
  },
  {
   "cell_type": "code",
   "execution_count": 32,
   "metadata": {},
   "outputs": [],
   "source": [
    "df_major.to_csv('../data/DATABASE.csv')\n",
    "df_major.to_pickle('../data/DATABASE.pkl')"
   ]
  },
  {
   "cell_type": "code",
   "execution_count": 18,
   "metadata": {},
   "outputs": [
    {
     "output_type": "execute_result",
     "data": {
      "text/plain": "            Time                 Experience                  Role  \\\n28     Full-time    Mid-Level, Senior, Lead      Mobile Developer   \n70     Full-time          Junior, Mid-Level    Frontend Developer   \n76     Full-time         Student, Mid-Level  System Administrator   \n114    Full-time                       None     Backend Developer   \n169    Full-time    Mid-Level, Senior, Lead  Full Stack Developer   \n...          ...                        ...                   ...   \n12736  Full-time                     Senior                DevOps   \n12740  Full-time  Junior, Mid-Level, Senior     Backend Developer   \n12760  Full-time          Mid-Level, Senior                DevOps   \n12763  Full-time    Mid-Level, Senior, Lead  Full Stack Developer   \n12799  Full-time               Senior, Lead    Frontend Developer   \n\n                                                Industry            Size  \\\n28             Communications, Enterprise Software, SaaS     1–10 people   \n70     Software Consulting, Software Development, Sof...   501–1k people   \n76     Agile Software Development, Enterprise Softwar...  201–500 people   \n114                                                 None            None   \n169                 Convenience, Food & Beverage, Retail     10k+ people   \n...                                                  ...             ...   \n12736  Customer Data Platform, Legal Technology, Mach...   51–200 people   \n12740                                          Education    11–50 people   \n12760  Agile Software Development, Healthcare, Medica...     10k+ people   \n12763  Consulting, Information Technology, IT Consulting  201–500 people   \n12799                Commercial Real Estate, Marketplace   51–200 people   \n\n         Company                       Salary                   Remote  \\\n28     VC Funded     $90k - 130k (US Dollars)  On-siteandlimitedremote   \n70       Private                         None  On-siteandlimitedremote   \n76       Private                         None  On-siteandlimitedremote   \n114         None     $90k - 120k (US Dollars)                   Remote   \n169       Public                         None                   Remote   \n...          ...                          ...                      ...   \n12736    Private                         None  On-siteandlimitedremote   \n12740    Private  £25k - 40k (British Pounds)  On-siteandlimitedremote   \n12760     Public     $80k - 110k (US Dollars)  On-siteandlimitedremote   \n12763    Private                         None                   Remote   \n12799  VC Funded    $120k - 140k (US Dollars)  On-siteandlimitedremote   \n\n                             Locations  \\\n28                       LosAngeles,CA   \n70                  Aachen,Deutschland   \n76     Leinfelden-Echterdingen,Germany   \n114                   Noofficelocation   \n169                 Zürich,Switzerland   \n...                                ...   \n12736                  München,Germany   \n12740              KingstonuponHull,UK   \n12760                       Chicago,IL   \n12763                 Noofficelocation   \n12799                  MarinadelRey,CA   \n\n                                                    Tags Additional  \n28                                                    []        NaN  \n70                                                    []        NaN  \n76                                                    []        NaN  \n114    ['python', 'scikit-learn', 'pytorch', 'docker'...        NaN  \n169                                                   []        NaN  \n...                                                  ...        ...  \n12736                                                 []        NaN  \n12740                                                 []        NaN  \n12760                                                 []        NaN  \n12763          ['spring', 'java', 'oracle', 'guidewire']        NaN  \n12799                                                 []        NaN  \n\n[821 rows x 11 columns]",
      "text/html": "<div>\n<style scoped>\n    .dataframe tbody tr th:only-of-type {\n        vertical-align: middle;\n    }\n\n    .dataframe tbody tr th {\n        vertical-align: top;\n    }\n\n    .dataframe thead th {\n        text-align: right;\n    }\n</style>\n<table border=\"1\" class=\"dataframe\">\n  <thead>\n    <tr style=\"text-align: right;\">\n      <th></th>\n      <th>Time</th>\n      <th>Experience</th>\n      <th>Role</th>\n      <th>Industry</th>\n      <th>Size</th>\n      <th>Company</th>\n      <th>Salary</th>\n      <th>Remote</th>\n      <th>Locations</th>\n      <th>Tags</th>\n      <th>Additional</th>\n    </tr>\n  </thead>\n  <tbody>\n    <tr>\n      <th>28</th>\n      <td>Full-time</td>\n      <td>Mid-Level, Senior, Lead</td>\n      <td>Mobile Developer</td>\n      <td>Communications, Enterprise Software, SaaS</td>\n      <td>1–10 people</td>\n      <td>VC Funded</td>\n      <td>$90k - 130k (US Dollars)</td>\n      <td>On-siteandlimitedremote</td>\n      <td>LosAngeles,CA</td>\n      <td>[]</td>\n      <td>NaN</td>\n    </tr>\n    <tr>\n      <th>70</th>\n      <td>Full-time</td>\n      <td>Junior, Mid-Level</td>\n      <td>Frontend Developer</td>\n      <td>Software Consulting, Software Development, Sof...</td>\n      <td>501–1k people</td>\n      <td>Private</td>\n      <td>None</td>\n      <td>On-siteandlimitedremote</td>\n      <td>Aachen,Deutschland</td>\n      <td>[]</td>\n      <td>NaN</td>\n    </tr>\n    <tr>\n      <th>76</th>\n      <td>Full-time</td>\n      <td>Student, Mid-Level</td>\n      <td>System Administrator</td>\n      <td>Agile Software Development, Enterprise Softwar...</td>\n      <td>201–500 people</td>\n      <td>Private</td>\n      <td>None</td>\n      <td>On-siteandlimitedremote</td>\n      <td>Leinfelden-Echterdingen,Germany</td>\n      <td>[]</td>\n      <td>NaN</td>\n    </tr>\n    <tr>\n      <th>114</th>\n      <td>Full-time</td>\n      <td>None</td>\n      <td>Backend Developer</td>\n      <td>None</td>\n      <td>None</td>\n      <td>None</td>\n      <td>$90k - 120k (US Dollars)</td>\n      <td>Remote</td>\n      <td>Noofficelocation</td>\n      <td>['python', 'scikit-learn', 'pytorch', 'docker'...</td>\n      <td>NaN</td>\n    </tr>\n    <tr>\n      <th>169</th>\n      <td>Full-time</td>\n      <td>Mid-Level, Senior, Lead</td>\n      <td>Full Stack Developer</td>\n      <td>Convenience, Food &amp; Beverage, Retail</td>\n      <td>10k+ people</td>\n      <td>Public</td>\n      <td>None</td>\n      <td>Remote</td>\n      <td>Zürich,Switzerland</td>\n      <td>[]</td>\n      <td>NaN</td>\n    </tr>\n    <tr>\n      <th>...</th>\n      <td>...</td>\n      <td>...</td>\n      <td>...</td>\n      <td>...</td>\n      <td>...</td>\n      <td>...</td>\n      <td>...</td>\n      <td>...</td>\n      <td>...</td>\n      <td>...</td>\n      <td>...</td>\n    </tr>\n    <tr>\n      <th>12736</th>\n      <td>Full-time</td>\n      <td>Senior</td>\n      <td>DevOps</td>\n      <td>Customer Data Platform, Legal Technology, Mach...</td>\n      <td>51–200 people</td>\n      <td>Private</td>\n      <td>None</td>\n      <td>On-siteandlimitedremote</td>\n      <td>München,Germany</td>\n      <td>[]</td>\n      <td>NaN</td>\n    </tr>\n    <tr>\n      <th>12740</th>\n      <td>Full-time</td>\n      <td>Junior, Mid-Level, Senior</td>\n      <td>Backend Developer</td>\n      <td>Education</td>\n      <td>11–50 people</td>\n      <td>Private</td>\n      <td>£25k - 40k (British Pounds)</td>\n      <td>On-siteandlimitedremote</td>\n      <td>KingstonuponHull,UK</td>\n      <td>[]</td>\n      <td>NaN</td>\n    </tr>\n    <tr>\n      <th>12760</th>\n      <td>Full-time</td>\n      <td>Mid-Level, Senior</td>\n      <td>DevOps</td>\n      <td>Agile Software Development, Healthcare, Medica...</td>\n      <td>10k+ people</td>\n      <td>Public</td>\n      <td>$80k - 110k (US Dollars)</td>\n      <td>On-siteandlimitedremote</td>\n      <td>Chicago,IL</td>\n      <td>[]</td>\n      <td>NaN</td>\n    </tr>\n    <tr>\n      <th>12763</th>\n      <td>Full-time</td>\n      <td>Mid-Level, Senior, Lead</td>\n      <td>Full Stack Developer</td>\n      <td>Consulting, Information Technology, IT Consulting</td>\n      <td>201–500 people</td>\n      <td>Private</td>\n      <td>None</td>\n      <td>Remote</td>\n      <td>Noofficelocation</td>\n      <td>['spring', 'java', 'oracle', 'guidewire']</td>\n      <td>NaN</td>\n    </tr>\n    <tr>\n      <th>12799</th>\n      <td>Full-time</td>\n      <td>Senior, Lead</td>\n      <td>Frontend Developer</td>\n      <td>Commercial Real Estate, Marketplace</td>\n      <td>51–200 people</td>\n      <td>VC Funded</td>\n      <td>$120k - 140k (US Dollars)</td>\n      <td>On-siteandlimitedremote</td>\n      <td>MarinadelRey,CA</td>\n      <td>[]</td>\n      <td>NaN</td>\n    </tr>\n  </tbody>\n</table>\n<p>821 rows × 11 columns</p>\n</div>"
     },
     "metadata": {},
     "execution_count": 18
    }
   ],
   "source": [
    "df_major[(df_major['Remote'] != 'None') & (~df_major['Remote'].isna())]"
   ]
  },
  {
   "cell_type": "code",
   "execution_count": null,
   "metadata": {},
   "outputs": [],
   "source": []
  }
 ],
 "metadata": {
  "kernelspec": {
   "display_name": "Python 3",
   "language": "python",
   "name": "python3"
  },
  "language_info": {
   "codemirror_mode": {
    "name": "ipython",
    "version": 3
   },
   "file_extension": ".py",
   "mimetype": "text/x-python",
   "name": "python",
   "nbconvert_exporter": "python",
   "pygments_lexer": "ipython3",
   "version": "3.7.4-final"
  }
 },
 "nbformat": 4,
 "nbformat_minor": 2
}